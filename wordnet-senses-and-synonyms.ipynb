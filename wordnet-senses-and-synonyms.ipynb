{
  "cells": [
    {
      "source": [
        "<a href=\"https://www.kaggle.com/code/muhammadammarjamshed/nlp-wordnet-senses-and-synonyms?scriptVersionId=116443236\" target=\"_blank\"><img align=\"left\" alt=\"Kaggle\" title=\"Open in Kaggle\" src=\"https://kaggle.com/static/images/open-in-kaggle.svg\"></a>"
      ],
      "metadata": {
        "id": "aBPkxUkYfVTU"
      },
      "cell_type": "markdown",
      "id": "aBPkxUkYfVTU"
    },
    {
      "cell_type": "markdown",
      "id": "9fb1d352",
      "metadata": {
        "papermill": {
          "duration": 0.007471,
          "end_time": "2023-01-15T19:41:34.014738",
          "exception": false,
          "start_time": "2023-01-15T19:41:34.007267",
          "status": "completed"
        },
        "tags": [],
        "id": "9fb1d352"
      },
      "source": [
        "## 1. WordNet senses and synonyms"
      ]
    },
    {
      "cell_type": "markdown",
      "id": "ee5a4e6a",
      "metadata": {
        "papermill": {
          "duration": 0.0066,
          "end_time": "2023-01-15T19:41:34.028494",
          "exception": false,
          "start_time": "2023-01-15T19:41:34.021894",
          "status": "completed"
        },
        "tags": [],
        "id": "ee5a4e6a"
      },
      "source": [
        "## from University of London MSC data science"
      ]
    },
    {
      "cell_type": "code",
      "source": [
        "import nltk\n",
        "nltk.download('wordnet')"
      ],
      "metadata": {
        "id": "8TzaTZObfjUm",
        "outputId": "327a6b1f-ea04-4eab-ef5d-b9ea39378340",
        "colab": {
          "base_uri": "https://localhost:8080/"
        }
      },
      "id": "8TzaTZObfjUm",
      "execution_count": 3,
      "outputs": [
        {
          "output_type": "stream",
          "name": "stderr",
          "text": [
            "[nltk_data] Downloading package wordnet to /root/nltk_data...\n"
          ]
        },
        {
          "output_type": "execute_result",
          "data": {
            "text/plain": [
              "True"
            ]
          },
          "metadata": {},
          "execution_count": 3
        }
      ]
    },
    {
      "cell_type": "code",
      "execution_count": 4,
      "id": "2383c9dd",
      "metadata": {
        "execution": {
          "iopub.execute_input": "2023-01-15T19:41:34.044466Z",
          "iopub.status.busy": "2023-01-15T19:41:34.043955Z",
          "iopub.status.idle": "2023-01-15T19:41:35.400686Z",
          "shell.execute_reply": "2023-01-15T19:41:35.399769Z"
        },
        "papermill": {
          "duration": 1.367382,
          "end_time": "2023-01-15T19:41:35.40321",
          "exception": false,
          "start_time": "2023-01-15T19:41:34.035828",
          "status": "completed"
        },
        "tags": [],
        "id": "2383c9dd"
      },
      "outputs": [],
      "source": [
        "from nltk.corpus import wordnet as wn"
      ]
    },
    {
      "cell_type": "code",
      "execution_count": 5,
      "id": "196a2be2",
      "metadata": {
        "execution": {
          "iopub.execute_input": "2023-01-15T19:41:35.41803Z",
          "iopub.status.busy": "2023-01-15T19:41:35.417328Z",
          "iopub.status.idle": "2023-01-15T19:41:37.117822Z",
          "shell.execute_reply": "2023-01-15T19:41:37.116468Z"
        },
        "papermill": {
          "duration": 1.709859,
          "end_time": "2023-01-15T19:41:37.119782",
          "exception": false,
          "start_time": "2023-01-15T19:41:35.409923",
          "status": "completed"
        },
        "tags": [],
        "id": "196a2be2",
        "outputId": "5c755ce2-5b6d-4634-bb6e-286198d9a842",
        "colab": {
          "base_uri": "https://localhost:8080/"
        }
      },
      "outputs": [
        {
          "output_type": "execute_result",
          "data": {
            "text/plain": [
              "[Synset('car.n.01')]"
            ]
          },
          "metadata": {},
          "execution_count": 5
        }
      ],
      "source": [
        "# words are grouped conceptually into synsets (synonym sets)\n",
        "wn.synsets('motorcar')"
      ]
    },
    {
      "cell_type": "code",
      "execution_count": 6,
      "id": "69ff8396",
      "metadata": {
        "execution": {
          "iopub.execute_input": "2023-01-15T19:41:37.134757Z",
          "iopub.status.busy": "2023-01-15T19:41:37.134351Z",
          "iopub.status.idle": "2023-01-15T19:41:37.159555Z",
          "shell.execute_reply": "2023-01-15T19:41:37.158918Z"
        },
        "papermill": {
          "duration": 0.034473,
          "end_time": "2023-01-15T19:41:37.161132",
          "exception": false,
          "start_time": "2023-01-15T19:41:37.126659",
          "status": "completed"
        },
        "tags": [],
        "id": "69ff8396",
        "outputId": "003aeadb-1250-4c80-a8d9-6eb9b01cd00f",
        "colab": {
          "base_uri": "https://localhost:8080/"
        }
      },
      "outputs": [
        {
          "output_type": "execute_result",
          "data": {
            "text/plain": [
              "[Synset('enchantment.n.02'),\n",
              " Synset('go.n.01'),\n",
              " Synset('while.n.01'),\n",
              " Synset('spell.n.04'),\n",
              " Synset('spell.v.01'),\n",
              " Synset('spell.v.02'),\n",
              " Synset('spell.v.03'),\n",
              " Synset('spell.v.04'),\n",
              " Synset('spell.v.05'),\n",
              " Synset('spell.v.06')]"
            ]
          },
          "metadata": {},
          "execution_count": 6
        }
      ],
      "source": [
        "wn.synsets('spell')"
      ]
    },
    {
      "cell_type": "code",
      "execution_count": 7,
      "id": "5e7978ad",
      "metadata": {
        "execution": {
          "iopub.execute_input": "2023-01-15T19:41:37.1781Z",
          "iopub.status.busy": "2023-01-15T19:41:37.17769Z",
          "iopub.status.idle": "2023-01-15T19:41:37.182153Z",
          "shell.execute_reply": "2023-01-15T19:41:37.18145Z"
        },
        "papermill": {
          "duration": 0.015923,
          "end_time": "2023-01-15T19:41:37.184561",
          "exception": false,
          "start_time": "2023-01-15T19:41:37.168638",
          "status": "completed"
        },
        "tags": [],
        "id": "5e7978ad",
        "outputId": "0a81c3c2-82a2-4d1e-c869-2f0279f9250e",
        "colab": {
          "base_uri": "https://localhost:8080/"
        }
      },
      "outputs": [
        {
          "output_type": "execute_result",
          "data": {
            "text/plain": [
              "['car', 'auto', 'automobile', 'machine', 'motorcar']"
            ]
          },
          "metadata": {},
          "execution_count": 7
        }
      ],
      "source": [
        "# synset members are referred to as 'lemmas'\n",
        "wn.synset('car.n.01').lemma_names()"
      ]
    },
    {
      "cell_type": "code",
      "execution_count": 9,
      "id": "df8d3908",
      "metadata": {
        "execution": {
          "iopub.execute_input": "2023-01-15T19:41:37.200216Z",
          "iopub.status.busy": "2023-01-15T19:41:37.199956Z",
          "iopub.status.idle": "2023-01-15T19:41:37.206201Z",
          "shell.execute_reply": "2023-01-15T19:41:37.205198Z"
        },
        "papermill": {
          "duration": 0.016105,
          "end_time": "2023-01-15T19:41:37.208051",
          "exception": false,
          "start_time": "2023-01-15T19:41:37.191946",
          "status": "completed"
        },
        "tags": [],
        "id": "df8d3908",
        "outputId": "112afd2c-1eed-437c-d8ee-77661149d637",
        "colab": {
          "base_uri": "https://localhost:8080/",
          "height": 35
        }
      },
      "outputs": [
        {
          "output_type": "execute_result",
          "data": {
            "text/plain": [
              "'a motor vehicle with four wheels; usually propelled by an internal combustion engine'"
            ],
            "application/vnd.google.colaboratory.intrinsic+json": {
              "type": "string"
            }
          },
          "metadata": {},
          "execution_count": 9
        }
      ],
      "source": [
        "wn.synset('car.n.01').definition()"
      ]
    },
    {
      "cell_type": "code",
      "execution_count": 10,
      "id": "ccd646ce",
      "metadata": {
        "execution": {
          "iopub.execute_input": "2023-01-15T19:41:37.223465Z",
          "iopub.status.busy": "2023-01-15T19:41:37.223135Z",
          "iopub.status.idle": "2023-01-15T19:41:37.229188Z",
          "shell.execute_reply": "2023-01-15T19:41:37.228308Z"
        },
        "papermill": {
          "duration": 0.016097,
          "end_time": "2023-01-15T19:41:37.231057",
          "exception": false,
          "start_time": "2023-01-15T19:41:37.21496",
          "status": "completed"
        },
        "tags": [],
        "id": "ccd646ce",
        "outputId": "5c093504-4e38-4a58-f338-85ce5f50596e",
        "colab": {
          "base_uri": "https://localhost:8080/"
        }
      },
      "outputs": [
        {
          "output_type": "execute_result",
          "data": {
            "text/plain": [
              "['he needs a car to get to work']"
            ]
          },
          "metadata": {},
          "execution_count": 10
        }
      ],
      "source": [
        "wn.synset('car.n.01').examples()"
      ]
    },
    {
      "cell_type": "code",
      "execution_count": 11,
      "id": "ef74cbac",
      "metadata": {
        "execution": {
          "iopub.execute_input": "2023-01-15T19:41:37.246519Z",
          "iopub.status.busy": "2023-01-15T19:41:37.246224Z",
          "iopub.status.idle": "2023-01-15T19:41:37.25223Z",
          "shell.execute_reply": "2023-01-15T19:41:37.25143Z"
        },
        "papermill": {
          "duration": 0.016228,
          "end_time": "2023-01-15T19:41:37.254463",
          "exception": false,
          "start_time": "2023-01-15T19:41:37.238235",
          "status": "completed"
        },
        "tags": [],
        "id": "ef74cbac",
        "outputId": "3621181e-d6d8-4940-be4a-f9ba46fc3400",
        "colab": {
          "base_uri": "https://localhost:8080/"
        }
      },
      "outputs": [
        {
          "output_type": "execute_result",
          "data": {
            "text/plain": [
              "[Lemma('car.n.01.car'),\n",
              " Lemma('car.n.01.auto'),\n",
              " Lemma('car.n.01.automobile'),\n",
              " Lemma('car.n.01.machine'),\n",
              " Lemma('car.n.01.motorcar')]"
            ]
          },
          "metadata": {},
          "execution_count": 11
        }
      ],
      "source": [
        "# get all the lemmas for a given synset\n",
        "wn.synset('car.n.01').lemmas()"
      ]
    },
    {
      "cell_type": "code",
      "execution_count": 12,
      "id": "35ee3920",
      "metadata": {
        "execution": {
          "iopub.execute_input": "2023-01-15T19:41:37.270171Z",
          "iopub.status.busy": "2023-01-15T19:41:37.269866Z",
          "iopub.status.idle": "2023-01-15T19:41:37.275438Z",
          "shell.execute_reply": "2023-01-15T19:41:37.274692Z"
        },
        "papermill": {
          "duration": 0.015274,
          "end_time": "2023-01-15T19:41:37.277098",
          "exception": false,
          "start_time": "2023-01-15T19:41:37.261824",
          "status": "completed"
        },
        "tags": [],
        "id": "35ee3920",
        "outputId": "61b744a4-be5e-48cd-d41a-f3b87e88b13e",
        "colab": {
          "base_uri": "https://localhost:8080/"
        }
      },
      "outputs": [
        {
          "output_type": "execute_result",
          "data": {
            "text/plain": [
              "Lemma('car.n.01.automobile')"
            ]
          },
          "metadata": {},
          "execution_count": 12
        }
      ],
      "source": [
        "wn.lemma('car.n.01.automobile')"
      ]
    },
    {
      "cell_type": "code",
      "execution_count": 13,
      "id": "33a4759d",
      "metadata": {
        "execution": {
          "iopub.execute_input": "2023-01-15T19:41:37.292275Z",
          "iopub.status.busy": "2023-01-15T19:41:37.291843Z",
          "iopub.status.idle": "2023-01-15T19:41:37.296545Z",
          "shell.execute_reply": "2023-01-15T19:41:37.295952Z"
        },
        "papermill": {
          "duration": 0.013875,
          "end_time": "2023-01-15T19:41:37.297991",
          "exception": false,
          "start_time": "2023-01-15T19:41:37.284116",
          "status": "completed"
        },
        "tags": [],
        "id": "33a4759d",
        "outputId": "8fbfd2e2-b98a-4df6-9341-e01b0949d94f",
        "colab": {
          "base_uri": "https://localhost:8080/"
        }
      },
      "outputs": [
        {
          "output_type": "execute_result",
          "data": {
            "text/plain": [
              "Synset('car.n.01')"
            ]
          },
          "metadata": {},
          "execution_count": 13
        }
      ],
      "source": [
        "wn.lemma('car.n.01.automobile').synset()"
      ]
    },
    {
      "cell_type": "code",
      "execution_count": 14,
      "id": "0a296e7f",
      "metadata": {
        "execution": {
          "iopub.execute_input": "2023-01-15T19:41:37.313842Z",
          "iopub.status.busy": "2023-01-15T19:41:37.31348Z",
          "iopub.status.idle": "2023-01-15T19:41:37.318265Z",
          "shell.execute_reply": "2023-01-15T19:41:37.317687Z"
        },
        "papermill": {
          "duration": 0.014615,
          "end_time": "2023-01-15T19:41:37.319707",
          "exception": false,
          "start_time": "2023-01-15T19:41:37.305092",
          "status": "completed"
        },
        "tags": [],
        "id": "0a296e7f",
        "outputId": "0becb8a9-b946-4d70-bf34-55c7a4e16942",
        "colab": {
          "base_uri": "https://localhost:8080/",
          "height": 35
        }
      },
      "outputs": [
        {
          "output_type": "execute_result",
          "data": {
            "text/plain": [
              "'automobile'"
            ],
            "application/vnd.google.colaboratory.intrinsic+json": {
              "type": "string"
            }
          },
          "metadata": {},
          "execution_count": 14
        }
      ],
      "source": [
        "wn.lemma('car.n.01.automobile').name()"
      ]
    },
    {
      "cell_type": "code",
      "execution_count": 15,
      "id": "d85e6ad8",
      "metadata": {
        "execution": {
          "iopub.execute_input": "2023-01-15T19:41:37.33573Z",
          "iopub.status.busy": "2023-01-15T19:41:37.33517Z",
          "iopub.status.idle": "2023-01-15T19:41:37.340188Z",
          "shell.execute_reply": "2023-01-15T19:41:37.339643Z"
        },
        "papermill": {
          "duration": 0.014639,
          "end_time": "2023-01-15T19:41:37.34159",
          "exception": false,
          "start_time": "2023-01-15T19:41:37.326951",
          "status": "completed"
        },
        "tags": [],
        "id": "d85e6ad8",
        "outputId": "9b2438cd-7254-4b08-864c-b7775325e7ae",
        "colab": {
          "base_uri": "https://localhost:8080/"
        }
      },
      "outputs": [
        {
          "output_type": "execute_result",
          "data": {
            "text/plain": [
              "[Synset('car.n.01'),\n",
              " Synset('car.n.02'),\n",
              " Synset('car.n.03'),\n",
              " Synset('car.n.04'),\n",
              " Synset('cable_car.n.01')]"
            ]
          },
          "metadata": {},
          "execution_count": 15
        }
      ],
      "source": [
        "# Multiple synsets correspond to multiple senses\n",
        "wn.synsets('car')"
      ]
    },
    {
      "cell_type": "code",
      "execution_count": 16,
      "id": "46b1062a",
      "metadata": {
        "execution": {
          "iopub.execute_input": "2023-01-15T19:41:37.357535Z",
          "iopub.status.busy": "2023-01-15T19:41:37.357084Z",
          "iopub.status.idle": "2023-01-15T19:41:37.36208Z",
          "shell.execute_reply": "2023-01-15T19:41:37.360705Z"
        },
        "papermill": {
          "duration": 0.015213,
          "end_time": "2023-01-15T19:41:37.364107",
          "exception": false,
          "start_time": "2023-01-15T19:41:37.348894",
          "status": "completed"
        },
        "tags": [],
        "id": "46b1062a",
        "outputId": "ab3f65e4-8b90-429c-c8f7-2ae9fbeed700",
        "colab": {
          "base_uri": "https://localhost:8080/"
        }
      },
      "outputs": [
        {
          "output_type": "stream",
          "name": "stdout",
          "text": [
            "['car', 'auto', 'automobile', 'machine', 'motorcar']\n",
            "['car', 'railcar', 'railway_car', 'railroad_car']\n",
            "['car', 'gondola']\n",
            "['car', 'elevator_car']\n",
            "['cable_car', 'car']\n"
          ]
        }
      ],
      "source": [
        "# we can iterate thru these senses to see all the lemmas\n",
        "for synset in wn.synsets('car'):\n",
        "     print(synset.lemma_names())"
      ]
    },
    {
      "cell_type": "code",
      "execution_count": 17,
      "id": "340ce54f",
      "metadata": {
        "execution": {
          "iopub.execute_input": "2023-01-15T19:41:37.381382Z",
          "iopub.status.busy": "2023-01-15T19:41:37.380379Z",
          "iopub.status.idle": "2023-01-15T19:41:37.386141Z",
          "shell.execute_reply": "2023-01-15T19:41:37.385438Z"
        },
        "papermill": {
          "duration": 0.015699,
          "end_time": "2023-01-15T19:41:37.387785",
          "exception": false,
          "start_time": "2023-01-15T19:41:37.372086",
          "status": "completed"
        },
        "tags": [],
        "id": "340ce54f",
        "outputId": "58057b08-1996-49ec-e99b-419cfb1fe23c",
        "colab": {
          "base_uri": "https://localhost:8080/"
        }
      },
      "outputs": [
        {
          "output_type": "execute_result",
          "data": {
            "text/plain": [
              "[Lemma('car.n.01.car'),\n",
              " Lemma('car.n.02.car'),\n",
              " Lemma('car.n.03.car'),\n",
              " Lemma('car.n.04.car'),\n",
              " Lemma('cable_car.n.01.car')]"
            ]
          },
          "metadata": {},
          "execution_count": 17
        }
      ],
      "source": [
        "wn.lemmas('car')"
      ]
    },
    {
      "cell_type": "markdown",
      "id": "b47e5a61",
      "metadata": {
        "papermill": {
          "duration": 0.007275,
          "end_time": "2023-01-15T19:41:37.40281",
          "exception": false,
          "start_time": "2023-01-15T19:41:37.395535",
          "status": "completed"
        },
        "tags": [],
        "id": "b47e5a61"
      },
      "source": [
        "## 2. The WordNet hierarchy"
      ]
    },
    {
      "cell_type": "code",
      "execution_count": 18,
      "id": "829fc6ad",
      "metadata": {
        "execution": {
          "iopub.execute_input": "2023-01-15T19:41:37.420378Z",
          "iopub.status.busy": "2023-01-15T19:41:37.41996Z",
          "iopub.status.idle": "2023-01-15T19:41:37.425348Z",
          "shell.execute_reply": "2023-01-15T19:41:37.424018Z"
        },
        "papermill": {
          "duration": 0.017034,
          "end_time": "2023-01-15T19:41:37.427758",
          "exception": false,
          "start_time": "2023-01-15T19:41:37.410724",
          "status": "completed"
        },
        "tags": [],
        "id": "829fc6ad"
      },
      "outputs": [],
      "source": [
        "motorcar = wn.synset('car.n.01')"
      ]
    },
    {
      "cell_type": "code",
      "execution_count": 19,
      "id": "1d05b30c",
      "metadata": {
        "execution": {
          "iopub.execute_input": "2023-01-15T19:41:37.448786Z",
          "iopub.status.busy": "2023-01-15T19:41:37.447672Z",
          "iopub.status.idle": "2023-01-15T19:41:37.455386Z",
          "shell.execute_reply": "2023-01-15T19:41:37.454227Z"
        },
        "papermill": {
          "duration": 0.021315,
          "end_time": "2023-01-15T19:41:37.458289",
          "exception": false,
          "start_time": "2023-01-15T19:41:37.436974",
          "status": "completed"
        },
        "tags": [],
        "id": "1d05b30c"
      },
      "outputs": [],
      "source": [
        "# find more specific concepts\n",
        "types_of_motorcar = motorcar.hyponyms()"
      ]
    },
    {
      "cell_type": "code",
      "execution_count": 20,
      "id": "3d86e763",
      "metadata": {
        "execution": {
          "iopub.execute_input": "2023-01-15T19:41:37.479688Z",
          "iopub.status.busy": "2023-01-15T19:41:37.47905Z",
          "iopub.status.idle": "2023-01-15T19:41:37.486064Z",
          "shell.execute_reply": "2023-01-15T19:41:37.485206Z"
        },
        "papermill": {
          "duration": 0.020156,
          "end_time": "2023-01-15T19:41:37.487955",
          "exception": false,
          "start_time": "2023-01-15T19:41:37.467799",
          "status": "completed"
        },
        "tags": [],
        "id": "3d86e763",
        "outputId": "2bd1dd6e-f425-4daa-95ba-e51ee9ac43fe",
        "colab": {
          "base_uri": "https://localhost:8080/"
        }
      },
      "outputs": [
        {
          "output_type": "execute_result",
          "data": {
            "text/plain": [
              "[Synset('ambulance.n.01'),\n",
              " Synset('beach_wagon.n.01'),\n",
              " Synset('bus.n.04'),\n",
              " Synset('cab.n.03'),\n",
              " Synset('compact.n.03'),\n",
              " Synset('convertible.n.01'),\n",
              " Synset('coupe.n.01'),\n",
              " Synset('cruiser.n.01'),\n",
              " Synset('electric.n.01'),\n",
              " Synset('gas_guzzler.n.01'),\n",
              " Synset('hardtop.n.01'),\n",
              " Synset('hatchback.n.01'),\n",
              " Synset('horseless_carriage.n.01'),\n",
              " Synset('hot_rod.n.01'),\n",
              " Synset('jeep.n.01'),\n",
              " Synset('limousine.n.01'),\n",
              " Synset('loaner.n.02'),\n",
              " Synset('minicar.n.01'),\n",
              " Synset('minivan.n.01'),\n",
              " Synset('model_t.n.01'),\n",
              " Synset('pace_car.n.01'),\n",
              " Synset('racer.n.02'),\n",
              " Synset('roadster.n.01'),\n",
              " Synset('sedan.n.01'),\n",
              " Synset('sport_utility.n.01'),\n",
              " Synset('sports_car.n.01'),\n",
              " Synset('stanley_steamer.n.01'),\n",
              " Synset('stock_car.n.01'),\n",
              " Synset('subcompact.n.01'),\n",
              " Synset('touring_car.n.01'),\n",
              " Synset('used-car.n.01')]"
            ]
          },
          "metadata": {},
          "execution_count": 20
        }
      ],
      "source": [
        "types_of_motorcar"
      ]
    },
    {
      "cell_type": "code",
      "execution_count": 21,
      "id": "0456d9ab",
      "metadata": {
        "execution": {
          "iopub.execute_input": "2023-01-15T19:41:37.505077Z",
          "iopub.status.busy": "2023-01-15T19:41:37.504716Z",
          "iopub.status.idle": "2023-01-15T19:41:37.512737Z",
          "shell.execute_reply": "2023-01-15T19:41:37.511753Z"
        },
        "papermill": {
          "duration": 0.018645,
          "end_time": "2023-01-15T19:41:37.514668",
          "exception": false,
          "start_time": "2023-01-15T19:41:37.496023",
          "status": "completed"
        },
        "tags": [],
        "id": "0456d9ab",
        "outputId": "ba96769c-ae4a-4ae1-9446-3b94f9d044b4",
        "colab": {
          "base_uri": "https://localhost:8080/"
        }
      },
      "outputs": [
        {
          "output_type": "execute_result",
          "data": {
            "text/plain": [
              "['Model_T',\n",
              " 'S.U.V.',\n",
              " 'SUV',\n",
              " 'Stanley_Steamer',\n",
              " 'ambulance',\n",
              " 'beach_waggon',\n",
              " 'beach_wagon',\n",
              " 'bus',\n",
              " 'cab',\n",
              " 'compact',\n",
              " 'compact_car',\n",
              " 'convertible',\n",
              " 'coupe',\n",
              " 'cruiser',\n",
              " 'electric',\n",
              " 'electric_automobile',\n",
              " 'electric_car',\n",
              " 'estate_car',\n",
              " 'gas_guzzler',\n",
              " 'hack',\n",
              " 'hardtop',\n",
              " 'hatchback',\n",
              " 'heap',\n",
              " 'horseless_carriage',\n",
              " 'hot-rod',\n",
              " 'hot_rod',\n",
              " 'jalopy',\n",
              " 'jeep',\n",
              " 'landrover',\n",
              " 'limo',\n",
              " 'limousine',\n",
              " 'loaner',\n",
              " 'minicar',\n",
              " 'minivan',\n",
              " 'pace_car',\n",
              " 'patrol_car',\n",
              " 'phaeton',\n",
              " 'police_car',\n",
              " 'police_cruiser',\n",
              " 'prowl_car',\n",
              " 'race_car',\n",
              " 'racer',\n",
              " 'racing_car',\n",
              " 'roadster',\n",
              " 'runabout',\n",
              " 'saloon',\n",
              " 'secondhand_car',\n",
              " 'sedan',\n",
              " 'sport_car',\n",
              " 'sport_utility',\n",
              " 'sport_utility_vehicle',\n",
              " 'sports_car',\n",
              " 'squad_car',\n",
              " 'station_waggon',\n",
              " 'station_wagon',\n",
              " 'stock_car',\n",
              " 'subcompact',\n",
              " 'subcompact_car',\n",
              " 'taxi',\n",
              " 'taxicab',\n",
              " 'tourer',\n",
              " 'touring_car',\n",
              " 'two-seater',\n",
              " 'used-car',\n",
              " 'waggon',\n",
              " 'wagon']"
            ]
          },
          "metadata": {},
          "execution_count": 21
        }
      ],
      "source": [
        "sorted(lemma.name() for synset in types_of_motorcar for lemma in synset.lemmas())"
      ]
    },
    {
      "cell_type": "code",
      "execution_count": 22,
      "id": "d98ef683",
      "metadata": {
        "execution": {
          "iopub.execute_input": "2023-01-15T19:41:37.533851Z",
          "iopub.status.busy": "2023-01-15T19:41:37.533487Z",
          "iopub.status.idle": "2023-01-15T19:41:37.540236Z",
          "shell.execute_reply": "2023-01-15T19:41:37.539201Z"
        },
        "papermill": {
          "duration": 0.018848,
          "end_time": "2023-01-15T19:41:37.542412",
          "exception": false,
          "start_time": "2023-01-15T19:41:37.523564",
          "status": "completed"
        },
        "tags": [],
        "id": "d98ef683",
        "outputId": "53450401-a317-4d56-b6cb-5a4dc697c95f",
        "colab": {
          "base_uri": "https://localhost:8080/"
        }
      },
      "outputs": [
        {
          "output_type": "execute_result",
          "data": {
            "text/plain": [
              "[Synset('motor_vehicle.n.01')]"
            ]
          },
          "metadata": {},
          "execution_count": 22
        }
      ],
      "source": [
        "# find more generic concepts\n",
        "motorcar.hypernyms()"
      ]
    },
    {
      "cell_type": "code",
      "execution_count": 23,
      "id": "f8af5bf8",
      "metadata": {
        "execution": {
          "iopub.execute_input": "2023-01-15T19:41:37.561794Z",
          "iopub.status.busy": "2023-01-15T19:41:37.561077Z",
          "iopub.status.idle": "2023-01-15T19:41:37.566699Z",
          "shell.execute_reply": "2023-01-15T19:41:37.565655Z"
        },
        "papermill": {
          "duration": 0.017673,
          "end_time": "2023-01-15T19:41:37.568917",
          "exception": false,
          "start_time": "2023-01-15T19:41:37.551244",
          "status": "completed"
        },
        "tags": [],
        "id": "f8af5bf8"
      },
      "outputs": [],
      "source": [
        "# a polyhierarchy means we can have multiple parents\n",
        "paths = motorcar.hypernym_paths()"
      ]
    },
    {
      "cell_type": "code",
      "execution_count": 24,
      "id": "f131f04d",
      "metadata": {
        "execution": {
          "iopub.execute_input": "2023-01-15T19:41:37.586531Z",
          "iopub.status.busy": "2023-01-15T19:41:37.586171Z",
          "iopub.status.idle": "2023-01-15T19:41:37.591276Z",
          "shell.execute_reply": "2023-01-15T19:41:37.590651Z"
        },
        "papermill": {
          "duration": 0.01565,
          "end_time": "2023-01-15T19:41:37.592814",
          "exception": false,
          "start_time": "2023-01-15T19:41:37.577164",
          "status": "completed"
        },
        "tags": [],
        "id": "f131f04d",
        "outputId": "944afdda-12be-48fa-ec7c-ae56c6809139",
        "colab": {
          "base_uri": "https://localhost:8080/"
        }
      },
      "outputs": [
        {
          "output_type": "execute_result",
          "data": {
            "text/plain": [
              "2"
            ]
          },
          "metadata": {},
          "execution_count": 24
        }
      ],
      "source": [
        "len(paths)"
      ]
    },
    {
      "cell_type": "code",
      "execution_count": 25,
      "id": "f692286b",
      "metadata": {
        "execution": {
          "iopub.execute_input": "2023-01-15T19:41:37.610523Z",
          "iopub.status.busy": "2023-01-15T19:41:37.610151Z",
          "iopub.status.idle": "2023-01-15T19:41:37.615559Z",
          "shell.execute_reply": "2023-01-15T19:41:37.614744Z"
        },
        "papermill": {
          "duration": 0.015971,
          "end_time": "2023-01-15T19:41:37.61707",
          "exception": false,
          "start_time": "2023-01-15T19:41:37.601099",
          "status": "completed"
        },
        "tags": [],
        "id": "f692286b",
        "outputId": "a1e64f81-901f-4867-e081-32d1286b80c3",
        "colab": {
          "base_uri": "https://localhost:8080/"
        }
      },
      "outputs": [
        {
          "output_type": "execute_result",
          "data": {
            "text/plain": [
              "['entity.n.01',\n",
              " 'physical_entity.n.01',\n",
              " 'object.n.01',\n",
              " 'whole.n.02',\n",
              " 'artifact.n.01',\n",
              " 'instrumentality.n.03',\n",
              " 'container.n.01',\n",
              " 'wheeled_vehicle.n.01',\n",
              " 'self-propelled_vehicle.n.01',\n",
              " 'motor_vehicle.n.01',\n",
              " 'car.n.01']"
            ]
          },
          "metadata": {},
          "execution_count": 25
        }
      ],
      "source": [
        "# let's look at the first path\n",
        "[synset.name() for synset in paths[0]]"
      ]
    },
    {
      "cell_type": "code",
      "execution_count": 26,
      "id": "f5568f5c",
      "metadata": {
        "execution": {
          "iopub.execute_input": "2023-01-15T19:41:37.634373Z",
          "iopub.status.busy": "2023-01-15T19:41:37.633878Z",
          "iopub.status.idle": "2023-01-15T19:41:37.638772Z",
          "shell.execute_reply": "2023-01-15T19:41:37.638211Z"
        },
        "papermill": {
          "duration": 0.015284,
          "end_time": "2023-01-15T19:41:37.640263",
          "exception": false,
          "start_time": "2023-01-15T19:41:37.624979",
          "status": "completed"
        },
        "tags": [],
        "id": "f5568f5c",
        "outputId": "83f04c99-b393-47a3-af10-650419e587c0",
        "colab": {
          "base_uri": "https://localhost:8080/"
        }
      },
      "outputs": [
        {
          "output_type": "execute_result",
          "data": {
            "text/plain": [
              "['entity.n.01',\n",
              " 'physical_entity.n.01',\n",
              " 'object.n.01',\n",
              " 'whole.n.02',\n",
              " 'artifact.n.01',\n",
              " 'instrumentality.n.03',\n",
              " 'conveyance.n.03',\n",
              " 'vehicle.n.01',\n",
              " 'wheeled_vehicle.n.01',\n",
              " 'self-propelled_vehicle.n.01',\n",
              " 'motor_vehicle.n.01',\n",
              " 'car.n.01']"
            ]
          },
          "metadata": {},
          "execution_count": 26
        }
      ],
      "source": [
        "# let's look at the second path\n",
        "[synset.name() for synset in paths[1]]"
      ]
    },
    {
      "cell_type": "code",
      "execution_count": 27,
      "id": "bdaa7b03",
      "metadata": {
        "execution": {
          "iopub.execute_input": "2023-01-15T19:41:37.658107Z",
          "iopub.status.busy": "2023-01-15T19:41:37.657656Z",
          "iopub.status.idle": "2023-01-15T19:41:37.66197Z",
          "shell.execute_reply": "2023-01-15T19:41:37.661418Z"
        },
        "papermill": {
          "duration": 0.015083,
          "end_time": "2023-01-15T19:41:37.663658",
          "exception": false,
          "start_time": "2023-01-15T19:41:37.648575",
          "status": "completed"
        },
        "tags": [],
        "id": "bdaa7b03",
        "outputId": "feed6f6e-52be-40ac-82a6-5efdea9bfb66",
        "colab": {
          "base_uri": "https://localhost:8080/"
        }
      },
      "outputs": [
        {
          "output_type": "execute_result",
          "data": {
            "text/plain": [
              "[Synset('entity.n.01')]"
            ]
          },
          "metadata": {},
          "execution_count": 27
        }
      ],
      "source": [
        "# what's the root node?\n",
        "motorcar.root_hypernyms()"
      ]
    },
    {
      "cell_type": "markdown",
      "id": "1cd52edc",
      "metadata": {
        "papermill": {
          "duration": 0.008121,
          "end_time": "2023-01-15T19:41:37.680491",
          "exception": false,
          "start_time": "2023-01-15T19:41:37.67237",
          "status": "completed"
        },
        "tags": [],
        "id": "1cd52edc"
      },
      "source": [
        "## 3. Measuring semantic similarity"
      ]
    },
    {
      "cell_type": "code",
      "execution_count": 28,
      "id": "200ad5d6",
      "metadata": {
        "execution": {
          "iopub.execute_input": "2023-01-15T19:41:37.69859Z",
          "iopub.status.busy": "2023-01-15T19:41:37.698098Z",
          "iopub.status.idle": "2023-01-15T19:41:37.703879Z",
          "shell.execute_reply": "2023-01-15T19:41:37.702781Z"
        },
        "papermill": {
          "duration": 0.01759,
          "end_time": "2023-01-15T19:41:37.706286",
          "exception": false,
          "start_time": "2023-01-15T19:41:37.688696",
          "status": "completed"
        },
        "tags": [],
        "id": "200ad5d6"
      },
      "outputs": [],
      "source": [
        "# Let's instantiate some terms\n",
        "right = wn.synset('right_whale.n.01')\n",
        "minke = wn.synset('minke_whale.n.01')\n",
        "orca = wn.synset('orca.n.01')\n",
        "tortoise = wn.synset('tortoise.n.01')\n",
        "plankton = wn.synset('plankton.n.01')\n",
        "novel = wn.synset('novel.n.01')"
      ]
    },
    {
      "cell_type": "code",
      "execution_count": 29,
      "id": "588a9700",
      "metadata": {
        "execution": {
          "iopub.execute_input": "2023-01-15T19:41:37.725347Z",
          "iopub.status.busy": "2023-01-15T19:41:37.724877Z",
          "iopub.status.idle": "2023-01-15T19:41:37.730871Z",
          "shell.execute_reply": "2023-01-15T19:41:37.730289Z"
        },
        "papermill": {
          "duration": 0.017321,
          "end_time": "2023-01-15T19:41:37.732536",
          "exception": false,
          "start_time": "2023-01-15T19:41:37.715215",
          "status": "completed"
        },
        "tags": [],
        "id": "588a9700",
        "outputId": "3a995a5b-99c7-473d-e294-09c5ebc380b6",
        "colab": {
          "base_uri": "https://localhost:8080/"
        }
      },
      "outputs": [
        {
          "output_type": "execute_result",
          "data": {
            "text/plain": [
              "[Synset('vertebrate.n.01')]"
            ]
          },
          "metadata": {},
          "execution_count": 29
        }
      ],
      "source": [
        "# find the common parent\n",
        "right.lowest_common_hypernyms(tortoise)"
      ]
    },
    {
      "cell_type": "code",
      "execution_count": 30,
      "id": "4cf17113",
      "metadata": {
        "execution": {
          "iopub.execute_input": "2023-01-15T19:41:37.752179Z",
          "iopub.status.busy": "2023-01-15T19:41:37.751749Z",
          "iopub.status.idle": "2023-01-15T19:41:37.756907Z",
          "shell.execute_reply": "2023-01-15T19:41:37.756359Z"
        },
        "papermill": {
          "duration": 0.016452,
          "end_time": "2023-01-15T19:41:37.758502",
          "exception": false,
          "start_time": "2023-01-15T19:41:37.74205",
          "status": "completed"
        },
        "tags": [],
        "id": "4cf17113",
        "outputId": "fce08767-a63f-4d85-e3b4-4d075c0261dc",
        "colab": {
          "base_uri": "https://localhost:8080/"
        }
      },
      "outputs": [
        {
          "output_type": "execute_result",
          "data": {
            "text/plain": [
              "0.043478260869565216"
            ]
          },
          "metadata": {},
          "execution_count": 30
        }
      ],
      "source": [
        "# calculate similarity\n",
        "right.path_similarity(novel)"
      ]
    },
    {
      "cell_type": "markdown",
      "id": "30b0f752",
      "metadata": {
        "papermill": {
          "duration": 0.008685,
          "end_time": "2023-01-15T19:41:37.776268",
          "exception": false,
          "start_time": "2023-01-15T19:41:37.767583",
          "status": "completed"
        },
        "tags": [],
        "id": "30b0f752"
      },
      "source": [
        "### Your turn:\n",
        "Rank the degrees of similarity between the word ‘university’ and each of the following: college, school, factory, supermarket, turtle"
      ]
    },
    {
      "cell_type": "code",
      "execution_count": 31,
      "id": "4ab4ffbc",
      "metadata": {
        "execution": {
          "iopub.execute_input": "2023-01-15T19:41:37.800191Z",
          "iopub.status.busy": "2023-01-15T19:41:37.799382Z",
          "iopub.status.idle": "2023-01-15T19:41:37.805218Z",
          "shell.execute_reply": "2023-01-15T19:41:37.804512Z"
        },
        "papermill": {
          "duration": 0.018976,
          "end_time": "2023-01-15T19:41:37.806989",
          "exception": false,
          "start_time": "2023-01-15T19:41:37.788013",
          "status": "completed"
        },
        "tags": [],
        "id": "4ab4ffbc"
      },
      "outputs": [],
      "source": [
        "university = wn.synset('university.n.01')"
      ]
    },
    {
      "cell_type": "code",
      "execution_count": 32,
      "id": "b571163b",
      "metadata": {
        "execution": {
          "iopub.execute_input": "2023-01-15T19:41:37.830038Z",
          "iopub.status.busy": "2023-01-15T19:41:37.829453Z",
          "iopub.status.idle": "2023-01-15T19:41:37.835887Z",
          "shell.execute_reply": "2023-01-15T19:41:37.835278Z"
        },
        "papermill": {
          "duration": 0.020666,
          "end_time": "2023-01-15T19:41:37.838447",
          "exception": false,
          "start_time": "2023-01-15T19:41:37.817781",
          "status": "completed"
        },
        "tags": [],
        "id": "b571163b",
        "outputId": "2b4a6eb9-6483-4a5b-bea9-6ae00afb9ec3",
        "colab": {
          "base_uri": "https://localhost:8080/"
        }
      },
      "outputs": [
        {
          "output_type": "execute_result",
          "data": {
            "text/plain": [
              "0.3333333333333333"
            ]
          },
          "metadata": {},
          "execution_count": 32
        }
      ],
      "source": [
        "university.path_similarity(wn.synset('college.n.01'))"
      ]
    },
    {
      "cell_type": "code",
      "source": [],
      "metadata": {
        "id": "OFfrEs73gGaY"
      },
      "id": "OFfrEs73gGaY",
      "execution_count": 32,
      "outputs": []
    }
  ],
  "metadata": {
    "kernelspec": {
      "display_name": "Python 3",
      "language": "python",
      "name": "python3"
    },
    "language_info": {
      "codemirror_mode": {
        "name": "ipython",
        "version": 3
      },
      "file_extension": ".py",
      "mimetype": "text/x-python",
      "name": "python",
      "nbconvert_exporter": "python",
      "pygments_lexer": "ipython3",
      "version": "3.7.12"
    },
    "papermill": {
      "default_parameters": {},
      "duration": 11.584503,
      "end_time": "2023-01-15T19:41:38.770179",
      "environment_variables": {},
      "exception": null,
      "input_path": "__notebook__.ipynb",
      "output_path": "__notebook__.ipynb",
      "parameters": {},
      "start_time": "2023-01-15T19:41:27.185676",
      "version": "2.3.4"
    },
    "colab": {
      "provenance": []
    }
  },
  "nbformat": 4,
  "nbformat_minor": 5
}