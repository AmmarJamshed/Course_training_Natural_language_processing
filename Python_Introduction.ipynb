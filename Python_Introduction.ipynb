{
  "nbformat": 4,
  "nbformat_minor": 0,
  "metadata": {
    "colab": {
      "provenance": []
    },
    "kernelspec": {
      "name": "python3",
      "display_name": "Python 3"
    },
    "language_info": {
      "name": "python"
    }
  },
  "cells": [
    {
      "cell_type": "markdown",
      "source": [
        "# Variables and basic data types"
      ],
      "metadata": {
        "id": "yzNaCrSL8zL4"
      }
    },
    {
      "cell_type": "code",
      "execution_count": 1,
      "metadata": {
        "colab": {
          "base_uri": "https://localhost:8080/"
        },
        "id": "N757Y9KF8fu-",
        "outputId": "248165bf-e9db-40eb-b03e-73e12db3c8f5"
      },
      "outputs": [
        {
          "output_type": "stream",
          "name": "stdout",
          "text": [
            "10 <class 'int'>\n",
            "3.14 <class 'float'>\n",
            "Alice <class 'str'>\n",
            "True <class 'bool'>\n"
          ]
        }
      ],
      "source": [
        "# Variables and basic data types\n",
        "x = 10 #int\n",
        "y = 3.14 # float\n",
        "name = \"Alice\" # String\n",
        "is_student = True # boolean\n",
        "\n",
        "print(x, type(x))\n",
        "print(y, type(y))\n",
        "print(name, type(name))\n",
        "print(is_student, type(is_student))"
      ]
    },
    {
      "cell_type": "markdown",
      "source": [
        "# Lists and Dictionaries"
      ],
      "metadata": {
        "id": "58WqvdlN-HoJ"
      }
    },
    {
      "cell_type": "code",
      "source": [
        "# Lists\n",
        "fruits = [\"apple\", \"banana\", \"cherry\"]\n",
        "print(fruits)\n",
        "print(fruits[1])  # Accessing elements\n",
        "\n",
        "# Adding elements\n",
        "fruits.append(\"date\")\n",
        "print(fruits)\n",
        "\n",
        "# Dictionaries\n",
        "person = {\n",
        "    \"name\": \"Alice\",\n",
        "    \"age\": 25,\n",
        "    \"is_student\": True\n",
        "}\n",
        "print(person)\n",
        "print(person[\"name\"])  # Accessing values\n",
        "\n",
        "# Adding key-value pairs\n",
        "person[\"city\"] = \"New York\"\n",
        "print(person)"
      ],
      "metadata": {
        "colab": {
          "base_uri": "https://localhost:8080/"
        },
        "id": "wvqhDQea81z2",
        "outputId": "5e0a3729-89bc-4cb7-d5ba-3ae676bf5b8e"
      },
      "execution_count": 2,
      "outputs": [
        {
          "output_type": "stream",
          "name": "stdout",
          "text": [
            "['apple', 'banana', 'cherry']\n",
            "banana\n",
            "['apple', 'banana', 'cherry', 'date']\n",
            "{'name': 'Alice', 'age': 25, 'is_student': True}\n",
            "Alice\n",
            "{'name': 'Alice', 'age': 25, 'is_student': True, 'city': 'New York'}\n"
          ]
        }
      ]
    },
    {
      "cell_type": "markdown",
      "source": [
        "# Conditional Statements"
      ],
      "metadata": {
        "id": "Y-j6MpqY-UkP"
      }
    },
    {
      "cell_type": "code",
      "source": [
        "# Conditional statements\n",
        "age = 20\n",
        "\n",
        "if age < 18:\n",
        "    print(\"You are a minor.\")\n",
        "elif age < 65:\n",
        "    print(\"You are an adult.\")\n",
        "else:\n",
        "    print(\"You are a senior.\")"
      ],
      "metadata": {
        "id": "P-gq4qAS9ZCt"
      },
      "execution_count": null,
      "outputs": []
    },
    {
      "cell_type": "code",
      "source": [
        "# For loop\n",
        "for i in range(5):\n",
        "    print(i)\n",
        "\n",
        "# While loop\n",
        "count = 0\n",
        "while count < 5:\n",
        "    print(count)\n",
        "    count += 1\n",
        "\n",
        "# Looping through a list\n",
        "for fruit in fruits:\n",
        "    print(fruit)\n",
        "\n",
        "# Looping through a dictionary\n",
        "for key, value in person.items():\n",
        "    print(f\"{key}: {value}\")\n"
      ],
      "metadata": {
        "colab": {
          "base_uri": "https://localhost:8080/"
        },
        "id": "zwYwpwaP-gp0",
        "outputId": "f50e3acf-4441-4152-9282-ae37445a05dc"
      },
      "execution_count": 3,
      "outputs": [
        {
          "output_type": "stream",
          "name": "stdout",
          "text": [
            "0\n",
            "1\n",
            "2\n",
            "3\n",
            "4\n",
            "0\n",
            "1\n",
            "2\n",
            "3\n",
            "4\n",
            "apple\n",
            "banana\n",
            "cherry\n",
            "date\n",
            "name: Alice\n",
            "age: 25\n",
            "is_student: True\n",
            "city: New York\n"
          ]
        }
      ]
    },
    {
      "cell_type": "markdown",
      "source": [
        "# Functions"
      ],
      "metadata": {
        "id": "qF7GOufw-cu0"
      }
    },
    {
      "cell_type": "code",
      "source": [
        "# Defining a function\n",
        "def greet(name):\n",
        "    return f\"Hello, {name}!\"\n",
        "\n",
        "print(greet(\"Alice\"))\n",
        "\n",
        "# Function with multiple arguments\n",
        "def add(a, b):\n",
        "    return a + b\n",
        "\n",
        "print(add(3, 5))\n",
        "\n",
        "# Function with default arguments\n",
        "def introduce(name, age=25):\n",
        "    return f\"My name is {name} and I am {age} years old.\"\n",
        "\n",
        "print(introduce(\"Alice\"))\n",
        "print(introduce(\"Bob\", 30))\n",
        "\n",
        "# Function with variable number of arguments\n",
        "def sum_all(*args):\n",
        "    return sum(args)\n",
        "\n",
        "print(sum_all(1, 2, 3, 4, 5))"
      ],
      "metadata": {
        "colab": {
          "base_uri": "https://localhost:8080/"
        },
        "id": "Yt3rMyM9-keA",
        "outputId": "d69119ce-e9de-48d8-bd3b-682c2db7b2d2"
      },
      "execution_count": 4,
      "outputs": [
        {
          "output_type": "stream",
          "name": "stdout",
          "text": [
            "Hello, Alice!\n",
            "8\n",
            "My name is Alice and I am 25 years old.\n",
            "My name is Bob and I am 30 years old.\n",
            "15\n"
          ]
        }
      ]
    },
    {
      "cell_type": "code",
      "source": [
        "# Print with one Line space\n",
        "print(\"I am\\n\\nAmmar\")"
      ],
      "metadata": {
        "colab": {
          "base_uri": "https://localhost:8080/"
        },
        "id": "SkUoMeWb-v2i",
        "outputId": "c17d16ea-384c-4f56-ba45-cf73603e4e2e"
      },
      "execution_count": 12,
      "outputs": [
        {
          "output_type": "stream",
          "name": "stdout",
          "text": [
            "I am\n",
            "\n",
            "Ammar\n"
          ]
        }
      ]
    },
    {
      "cell_type": "markdown",
      "source": [
        "# Programs"
      ],
      "metadata": {
        "id": "6TmyCVBG_WUa"
      }
    },
    {
      "cell_type": "code",
      "source": [
        "# Fibonacci sequence using a loop\n",
        "def fibonacci(n):\n",
        "    a, b = 0, 1\n",
        "    sequence = []\n",
        "    for _ in range(n):\n",
        "        sequence.append(a)\n",
        "        a, b = b, a + b\n",
        "    return sequence\n",
        "\n",
        "print(fibonacci(10))\n"
      ],
      "metadata": {
        "colab": {
          "base_uri": "https://localhost:8080/"
        },
        "id": "1AaH440B-4UC",
        "outputId": "533d0322-76a1-43ad-8b4c-6f34a5dcf4f5"
      },
      "execution_count": 13,
      "outputs": [
        {
          "output_type": "stream",
          "name": "stdout",
          "text": [
            "[0, 1, 1, 2, 3, 5, 8, 13, 21, 34]\n"
          ]
        }
      ]
    },
    {
      "cell_type": "code",
      "source": [
        "# Factorial using recursion\n",
        "def factorial(n):\n",
        "    if n == 0:\n",
        "        return 1\n",
        "    else:\n",
        "        return n * factorial(n - 1)\n",
        "\n",
        "print(factorial(5))"
      ],
      "metadata": {
        "colab": {
          "base_uri": "https://localhost:8080/"
        },
        "id": "T6MVh8Up_YT0",
        "outputId": "02590092-80eb-42e6-bbfa-c6f6846d0f99"
      },
      "execution_count": 14,
      "outputs": [
        {
          "output_type": "stream",
          "name": "stdout",
          "text": [
            "120\n"
          ]
        }
      ]
    },
    {
      "cell_type": "code",
      "source": [
        "5*4*3*2*1"
      ],
      "metadata": {
        "colab": {
          "base_uri": "https://localhost:8080/"
        },
        "id": "SwWmkuXZ_elN",
        "outputId": "ceb17aac-1569-4d54-ca11-20dfd3d5e1e5"
      },
      "execution_count": 18,
      "outputs": [
        {
          "output_type": "execute_result",
          "data": {
            "text/plain": [
              "120"
            ]
          },
          "metadata": {},
          "execution_count": 18
        }
      ]
    },
    {
      "cell_type": "code",
      "source": [
        "# Check if a number is prime\n",
        "def is_prime(n):\n",
        "    if n <= 1:\n",
        "        return False\n",
        "    for i in range(2, int(n ** 0.5) + 1):\n",
        "        if n % i == 0:\n",
        "            return False\n",
        "    else:\n",
        "      return True\n",
        "\n",
        "print(is_prime(29))\n",
        "print(is_prime(10))"
      ],
      "metadata": {
        "colab": {
          "base_uri": "https://localhost:8080/"
        },
        "id": "TP2XfDQT_rdp",
        "outputId": "8fac6655-fb76-4b17-aeeb-916a8e87d22c"
      },
      "execution_count": 22,
      "outputs": [
        {
          "output_type": "stream",
          "name": "stdout",
          "text": [
            "True\n",
            "False\n"
          ]
        }
      ]
    },
    {
      "cell_type": "code",
      "source": [
        "# Check if a string is a palindrome\n",
        "def is_palindrome(s):\n",
        "    return s == s[::-1]\n",
        "\n",
        "print(is_palindrome(\"radar\"))\n",
        "print(is_palindrome(\"hello\"))"
      ],
      "metadata": {
        "colab": {
          "base_uri": "https://localhost:8080/"
        },
        "id": "2TBV2vi5AIYM",
        "outputId": "bdad46d2-3a88-4331-ba89-8f85b3e84556"
      },
      "execution_count": 23,
      "outputs": [
        {
          "output_type": "stream",
          "name": "stdout",
          "text": [
            "True\n",
            "False\n"
          ]
        }
      ]
    },
    {
      "cell_type": "markdown",
      "source": [
        "# Palindrome\n",
        "a word, verse, or sentence (such as \"Able was I ere I saw Elba\") or a number (such as 1881) that reads the same backward or forward"
      ],
      "metadata": {
        "id": "z9l1Zb4fBbmd"
      }
    },
    {
      "cell_type": "code",
      "source": [
        "# Check if a string is a palindrome\n",
        "def is_palindrome(s):\n",
        "    return s == s[::-1]\n",
        "\n",
        "print(is_palindrome(\"radar\"))\n",
        "print(is_palindrome(\"hello\"))\n"
      ],
      "metadata": {
        "colab": {
          "base_uri": "https://localhost:8080/"
        },
        "id": "E3V188ioBFtV",
        "outputId": "ffd39848-a5b0-4291-e5cd-cf3bbc2d932d"
      },
      "execution_count": 24,
      "outputs": [
        {
          "output_type": "stream",
          "name": "stdout",
          "text": [
            "True\n",
            "False\n"
          ]
        }
      ]
    },
    {
      "cell_type": "markdown",
      "source": [
        "# Calculator Program"
      ],
      "metadata": {
        "id": "Nyj266n2BrsN"
      }
    },
    {
      "cell_type": "code",
      "source": [
        "# Simple calculator\n",
        "def calculator():\n",
        "    operation = input(\"Choose an operation (+, -, *, /): \")\n",
        "    num1 = float(input(\"Enter first number: \"))\n",
        "    num2 = float(input(\"Enter second number: \"))\n",
        "\n",
        "    if operation == '+':\n",
        "        result = num1 + num2\n",
        "    elif operation == '-':\n",
        "        result = num1 - num2\n",
        "    elif operation == '*':\n",
        "        result = num1 * num2\n",
        "    elif operation == '/':\n",
        "        if num2 != 0:\n",
        "            result = num1 / num2\n",
        "        else:\n",
        "            return \"Error! Division by zero.\"\n",
        "    else:\n",
        "        return \"Invalid operation!\"\n",
        "\n",
        "    return f\"The result is: {result}\"\n",
        "\n",
        "print(calculator())"
      ],
      "metadata": {
        "colab": {
          "base_uri": "https://localhost:8080/"
        },
        "id": "xvhHByVQBn0r",
        "outputId": "12f97f74-94f6-472d-990c-e2ba3f1c27de"
      },
      "execution_count": 25,
      "outputs": [
        {
          "output_type": "stream",
          "name": "stdout",
          "text": [
            "Choose an operation (+, -, *, /): +\n",
            "Enter first number: 1\n",
            "Enter second number: 2\n",
            "The result is: 3.0\n"
          ]
        }
      ]
    },
    {
      "cell_type": "markdown",
      "source": [
        "# Guess the lucky number game designed as a function with 5 max attempts"
      ],
      "metadata": {
        "id": "Rb-XbtSmB2OF"
      }
    },
    {
      "cell_type": "code",
      "source": [
        "import random\n",
        "\n",
        "def guess_the_number():\n",
        "    number_to_guess = random.randint(1, 100)\n",
        "    attempts = 0\n",
        "    max_attempts = 5\n",
        "\n",
        "    while attempts < max_attempts:\n",
        "        guess = int(input(\"Guess the number (between 1 and 100): \"))\n",
        "        attempts += 1\n",
        "\n",
        "        if guess < number_to_guess:\n",
        "            print(\"Too low!\")\n",
        "        elif guess > number_to_guess:\n",
        "            print(\"Too high!\")\n",
        "        else:\n",
        "            print(f\"Congratulations! You guessed the number in {attempts} attempts.\")\n",
        "            break\n",
        "    else:\n",
        "        print(f\"Sorry, you've used all {max_attempts} attempts. The lucky number was {number_to_guess}.\")\n",
        "\n",
        "guess_the_number()"
      ],
      "metadata": {
        "colab": {
          "base_uri": "https://localhost:8080/"
        },
        "id": "VHApQLHNBug1",
        "outputId": "a45c0a01-dbd8-4b27-9332-565ef8a1ec0b"
      },
      "execution_count": 27,
      "outputs": [
        {
          "output_type": "stream",
          "name": "stdout",
          "text": [
            "Guess the number (between 1 and 100): 23\n",
            "Too low!\n",
            "Guess the number (between 1 and 100): 100\n",
            "Too high!\n",
            "Guess the number (between 1 and 100): 23\n",
            "Too low!\n",
            "Guess the number (between 1 and 100): 50\n",
            "Too low!\n",
            "Guess the number (between 1 and 100): 21\n",
            "Too low!\n",
            "Sorry, you've used all 5 attempts. The lucky number was 93.\n"
          ]
        }
      ]
    },
    {
      "cell_type": "markdown",
      "source": [
        "# ATM Simulation program"
      ],
      "metadata": {
        "id": "4mvCv7c8C_uq"
      }
    },
    {
      "cell_type": "code",
      "source": [
        "# ATM Simulation Program\n",
        "\n",
        "def atm():\n",
        "    correct_pin = \"1234\"  # Example PIN, you can change it to whatever you like\n",
        "    attempts = 0\n",
        "    max_attempts = 3\n",
        "    card_blocked = False\n",
        "\n",
        "    while attempts < max_attempts:\n",
        "        pin = input(\"Please enter your PIN: \")\n",
        "        if pin == correct_pin:\n",
        "            print(\"PIN accepted. You have access to your account.\")\n",
        "            break\n",
        "        else:\n",
        "            attempts += 1\n",
        "            print(f\"Incorrect PIN. You have {max_attempts - attempts} attempt(s) left.\")\n",
        "\n",
        "    if attempts == max_attempts:\n",
        "        card_blocked = True\n",
        "        print(\"Your card has been blocked due to too many incorrect attempts.\")\n",
        "\n",
        "    return card_blocked\n",
        "\n",
        "# Run the ATM program\n",
        "if atm():\n",
        "    print(\"Please contact your bank to unblock your card.\")"
      ],
      "metadata": {
        "colab": {
          "base_uri": "https://localhost:8080/"
        },
        "id": "mOtYM7OrB6Jo",
        "outputId": "0efa7bc2-0a28-4f88-d57c-31b227a4c64f"
      },
      "execution_count": 28,
      "outputs": [
        {
          "output_type": "stream",
          "name": "stdout",
          "text": [
            "Please enter your PIN: 2355\n",
            "Incorrect PIN. You have 2 attempt(s) left.\n",
            "Please enter your PIN: 1233\n",
            "Incorrect PIN. You have 1 attempt(s) left.\n",
            "Please enter your PIN: 2345\n",
            "Incorrect PIN. You have 0 attempt(s) left.\n",
            "Your card has been blocked due to too many incorrect attempts.\n",
            "Please contact your bank to unblock your card.\n"
          ]
        }
      ]
    },
    {
      "cell_type": "code",
      "source": [],
      "metadata": {
        "id": "T8vAbuw4C69Z"
      },
      "execution_count": null,
      "outputs": []
    }
  ]
}